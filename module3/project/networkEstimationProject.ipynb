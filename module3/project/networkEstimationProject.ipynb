{
 "cells": [
  {
   "cell_type": "code",
   "execution_count": 7,
   "metadata": {},
   "outputs": [],
   "source": [
    "# Subject 4: latency and capacity estimation for a network connection from asymmetric measurements\n",
    "# What we are interested in here is the mean time required for sending a message of a given length."
   ]
  },
  {
   "cell_type": "code",
   "execution_count": null,
   "metadata": {},
   "outputs": [],
   "source": [
    "# Our tasks\n",
    "# 1) Start by working on the first dataset (liglab2). Plot the time evolution of transmission time, if useful at different moments in time and/or on different time scales, in order to evaluate the temporal stability of the phenomenon. Can the variations be explained solely by message size?\n",
    "# 2) Plot the transmission time as a function of message size. You should observe a \"disruption\", a size starting from which the variability changes qualitatively. Estimate this time graphically, in order to treat the two classes of message size separately.\n",
    "# 3) Perform a linear regression for each class and estimate the corresponding values of L and C. Superpose the result of this regression onto the preceding plot."
   ]
  },
  {
   "cell_type": "code",
   "execution_count": 9,
   "metadata": {},
   "outputs": [],
   "source": [
    "# Let start trying to read the input file \"liglab2.log\" and take the values we need.\n",
    "# [1421761682.052172] 665 bytes from lig-publig.imag.fr (129.88.11.7): icmp_seq=1 ttl=60 time=22.5 ms"
   ]
  },
  {
   "cell_type": "code",
   "execution_count": 104,
   "metadata": {},
   "outputs": [],
   "source": [
    "import numpy as np\n",
    "import matplotlib.pyplot as plt\n",
    "import random"
   ]
  },
  {
   "cell_type": "code",
   "execution_count": 7,
   "metadata": {},
   "outputs": [],
   "source": [
    "file = open('liglab2.log','r')\n",
    "#for lines in file:\n",
    "    #print(lines)"
   ]
  },
  {
   "cell_type": "code",
   "execution_count": null,
   "metadata": {},
   "outputs": [],
   "source": [
    "# Verifying if we have invalid lines, eg. messages that was not received."
   ]
  },
  {
   "cell_type": "code",
   "execution_count": 123,
   "metadata": {},
   "outputs": [
    {
     "name": "stdout",
     "output_type": "stream",
     "text": [
      "Total valid lines: 44036\n",
      "Total invalid lines: 1131\n"
     ]
    }
   ],
   "source": [
    "file = open('liglab2.log','r')\n",
    "invalidLines = 0\n",
    "validLines = 0\n",
    "for lines in file:\n",
    "    values = lines.split()\n",
    "    if(len(values) < 10): #10 is the size of a full row\n",
    "        invalidLine += 1\n",
    "    else:\n",
    "        validLines += 1 \n",
    "print(\"Total valid lines: \" + str(totalLines))\n",
    "print(\"Total invalid lines: \" + str(invalidLine))"
   ]
  },
  {
   "cell_type": "code",
   "execution_count": 2,
   "metadata": {},
   "outputs": [],
   "source": [
    "# Start by working on the first dataset (liglab2). Plot the time evolution of transmission time, \n",
    "# if useful at different moments in time and/or on different time scales, in order to evaluate \n",
    "# the temporal stability of the phenomenon. Can the variations be explained solely by message size?\n",
    "\n",
    "#[1421761682.052172] 665 bytes from lig-publig.imag.fr (129.88.11.7): icmp_seq=1 ttl=60 time=22.5 ms"
   ]
  },
  {
   "cell_type": "code",
   "execution_count": 229,
   "metadata": {},
   "outputs": [
    {
     "data": {
      "image/png": "[encoded data removed]",
      "text/plain": [
       "<Figure size 432x288 with 1 Axes>"
      ]
     },
     "metadata": {},
     "output_type": "display_data"
    }
   ],
   "source": [
    "file = open('liglab2.log','r')\n",
    "times = []\n",
    "sizes = []\n",
    "for lines in file:\n",
    "    values = lines.split()\n",
    "    if(len(values) == 10):\n",
    "        times.append(values[8].split('=')[1])\n",
    "        sizes.append(values[1])\n",
    "dimension = 100\n",
    "index =  np.random.choice(validLines,dimension, replace = False)\n",
    "t = []\n",
    "for i in range (dimension) :\n",
    "    t.append(times[index[i]])\n",
    "#print(t)\n",
    "t = sorted(t)\n",
    "plt.hist(t)\n",
    "plt.show()\n",
    "\n"
   ]
  },
  {
   "cell_type": "code",
   "execution_count": 225,
   "metadata": {},
   "outputs": [],
   "source": []
  }
 ],
 "metadata": {
  "kernelspec": {
   "display_name": "Python 3",
   "language": "python",
   "name": "python3"
  },
  "language_info": {
   "codemirror_mode": {
    "name": "ipython",
    "version": 3
   },
   "file_extension": ".py",
   "mimetype": "text/x-python",
   "name": "python",
   "nbconvert_exporter": "python",
   "pygments_lexer": "ipython3",
   "version": "3.6.5"
  }
 },
 "nbformat": 4,
 "nbformat_minor": 2
}
